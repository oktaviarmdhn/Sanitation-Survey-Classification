{
 "cells": [
  {
   "cell_type": "markdown",
   "metadata": {},
   "source": [
    "### Sanitation Survey Classification"
   ]
  },
  {
   "cell_type": "markdown",
   "metadata": {},
   "source": [
    "The following is one of the assignments for the Data Mining class in the 6th semester. I was assigned to classify sanitation data in Surabaya using Logistics Regression, Decision Tree, Naive Bayes, K-Nearest Neighbor, and Support Vector Machine."
   ]
  },
  {
   "cell_type": "code",
   "execution_count": 1,
   "metadata": {},
   "outputs": [],
   "source": [
    "import pandas as pd\n",
    "import numpy as np\n",
    "import seaborn as sns\n",
    "import matplotlib.pyplot as plt\n",
    "from sklearn.metrics import confusion_matrix, accuracy_score, precision_score, recall_score, auc, roc_curve"
   ]
  },
  {
   "cell_type": "code",
   "execution_count": 2,
   "metadata": {},
   "outputs": [
    {
     "data": {
      "text/html": [
       "<div>\n",
       "<style scoped>\n",
       "    .dataframe tbody tr th:only-of-type {\n",
       "        vertical-align: middle;\n",
       "    }\n",
       "\n",
       "    .dataframe tbody tr th {\n",
       "        vertical-align: top;\n",
       "    }\n",
       "\n",
       "    .dataframe thead th {\n",
       "        text-align: right;\n",
       "    }\n",
       "</style>\n",
       "<table border=\"1\" class=\"dataframe\">\n",
       "  <thead>\n",
       "    <tr style=\"text-align: right;\">\n",
       "      <th></th>\n",
       "      <th>domestic_waste_disposal</th>\n",
       "      <th>household</th>\n",
       "      <th>education_of_head_of_household</th>\n",
       "      <th>occupation_of_head_of_household</th>\n",
       "      <th>household_income</th>\n",
       "      <th>household_expense</th>\n",
       "      <th>house_ownership_status</th>\n",
       "      <th>drain_time_(in_year)</th>\n",
       "      <th>type_of_toilet</th>\n",
       "      <th>illness_of_a_family_member</th>\n",
       "      <th>water_for_bathing_washing</th>\n",
       "      <th>sanitary_behavior</th>\n",
       "    </tr>\n",
       "  </thead>\n",
       "  <tbody>\n",
       "    <tr>\n",
       "      <th>0</th>\n",
       "      <td>1</td>\n",
       "      <td>1</td>\n",
       "      <td>3</td>\n",
       "      <td>6</td>\n",
       "      <td>0</td>\n",
       "      <td>0</td>\n",
       "      <td>1</td>\n",
       "      <td>0</td>\n",
       "      <td>0</td>\n",
       "      <td>0</td>\n",
       "      <td>1</td>\n",
       "      <td>1</td>\n",
       "    </tr>\n",
       "    <tr>\n",
       "      <th>1</th>\n",
       "      <td>1</td>\n",
       "      <td>0</td>\n",
       "      <td>2</td>\n",
       "      <td>4</td>\n",
       "      <td>0</td>\n",
       "      <td>0</td>\n",
       "      <td>0</td>\n",
       "      <td>0</td>\n",
       "      <td>1</td>\n",
       "      <td>0</td>\n",
       "      <td>1</td>\n",
       "      <td>1</td>\n",
       "    </tr>\n",
       "    <tr>\n",
       "      <th>2</th>\n",
       "      <td>1</td>\n",
       "      <td>1</td>\n",
       "      <td>1</td>\n",
       "      <td>3</td>\n",
       "      <td>0</td>\n",
       "      <td>0</td>\n",
       "      <td>0</td>\n",
       "      <td>0</td>\n",
       "      <td>1</td>\n",
       "      <td>0</td>\n",
       "      <td>1</td>\n",
       "      <td>1</td>\n",
       "    </tr>\n",
       "    <tr>\n",
       "      <th>3</th>\n",
       "      <td>1</td>\n",
       "      <td>1</td>\n",
       "      <td>1</td>\n",
       "      <td>2</td>\n",
       "      <td>1</td>\n",
       "      <td>1</td>\n",
       "      <td>0</td>\n",
       "      <td>0</td>\n",
       "      <td>1</td>\n",
       "      <td>0</td>\n",
       "      <td>1</td>\n",
       "      <td>1</td>\n",
       "    </tr>\n",
       "    <tr>\n",
       "      <th>4</th>\n",
       "      <td>1</td>\n",
       "      <td>1</td>\n",
       "      <td>3</td>\n",
       "      <td>3</td>\n",
       "      <td>0</td>\n",
       "      <td>0</td>\n",
       "      <td>0</td>\n",
       "      <td>0</td>\n",
       "      <td>1</td>\n",
       "      <td>0</td>\n",
       "      <td>1</td>\n",
       "      <td>0</td>\n",
       "    </tr>\n",
       "  </tbody>\n",
       "</table>\n",
       "</div>"
      ],
      "text/plain": [
       "   domestic_waste_disposal  household  education_of_head_of_household  \\\n",
       "0                        1          1                               3   \n",
       "1                        1          0                               2   \n",
       "2                        1          1                               1   \n",
       "3                        1          1                               1   \n",
       "4                        1          1                               3   \n",
       "\n",
       "   occupation_of_head_of_household  household_income  household_expense  \\\n",
       "0                                6                 0                  0   \n",
       "1                                4                 0                  0   \n",
       "2                                3                 0                  0   \n",
       "3                                2                 1                  1   \n",
       "4                                3                 0                  0   \n",
       "\n",
       "   house_ownership_status  drain_time_(in_year)  type_of_toilet  \\\n",
       "0                       1                     0               0   \n",
       "1                       0                     0               1   \n",
       "2                       0                     0               1   \n",
       "3                       0                     0               1   \n",
       "4                       0                     0               1   \n",
       "\n",
       "   illness_of_a_family_member  water_for_bathing_washing  sanitary_behavior  \n",
       "0                           0                          1                  1  \n",
       "1                           0                          1                  1  \n",
       "2                           0                          1                  1  \n",
       "3                           0                          1                  1  \n",
       "4                           0                          1                  0  "
      ]
     },
     "execution_count": 2,
     "metadata": {},
     "output_type": "execute_result"
    }
   ],
   "source": [
    "# Import Data\n",
    "data = pd.read_csv('sanitation_survey.csv')\n",
    "data.head()"
   ]
  },
  {
   "cell_type": "markdown",
   "metadata": {},
   "source": [
    "Before carrying out the classification process, I did data exploration and data pre-processing (detection of missing values and outliers)"
   ]
  },
  {
   "cell_type": "markdown",
   "metadata": {},
   "source": [
    "### Data Characteristics"
   ]
  },
  {
   "cell_type": "code",
   "execution_count": 3,
   "metadata": {},
   "outputs": [
    {
     "data": {
      "text/plain": [
       "(102, 12)"
      ]
     },
     "execution_count": 3,
     "metadata": {},
     "output_type": "execute_result"
    }
   ],
   "source": [
    "data.shape"
   ]
  },
  {
   "cell_type": "code",
   "execution_count": 4,
   "metadata": {},
   "outputs": [
    {
     "data": {
      "text/html": [
       "<div>\n",
       "<style scoped>\n",
       "    .dataframe tbody tr th:only-of-type {\n",
       "        vertical-align: middle;\n",
       "    }\n",
       "\n",
       "    .dataframe tbody tr th {\n",
       "        vertical-align: top;\n",
       "    }\n",
       "\n",
       "    .dataframe thead th {\n",
       "        text-align: right;\n",
       "    }\n",
       "</style>\n",
       "<table border=\"1\" class=\"dataframe\">\n",
       "  <thead>\n",
       "    <tr style=\"text-align: right;\">\n",
       "      <th></th>\n",
       "      <th>domestic_waste_disposal</th>\n",
       "      <th>household</th>\n",
       "      <th>education_of_head_of_household</th>\n",
       "      <th>occupation_of_head_of_household</th>\n",
       "      <th>household_income</th>\n",
       "      <th>household_expense</th>\n",
       "      <th>house_ownership_status</th>\n",
       "      <th>drain_time_(in_year)</th>\n",
       "      <th>type_of_toilet</th>\n",
       "      <th>illness_of_a_family_member</th>\n",
       "      <th>water_for_bathing_washing</th>\n",
       "      <th>sanitary_behavior</th>\n",
       "    </tr>\n",
       "  </thead>\n",
       "  <tbody>\n",
       "    <tr>\n",
       "      <th>count</th>\n",
       "      <td>102.000000</td>\n",
       "      <td>102.000000</td>\n",
       "      <td>102.000000</td>\n",
       "      <td>102.000000</td>\n",
       "      <td>102.000000</td>\n",
       "      <td>102.000000</td>\n",
       "      <td>102.000000</td>\n",
       "      <td>102.000000</td>\n",
       "      <td>102.000000</td>\n",
       "      <td>102.000000</td>\n",
       "      <td>102.000000</td>\n",
       "      <td>102.000000</td>\n",
       "    </tr>\n",
       "    <tr>\n",
       "      <th>mean</th>\n",
       "      <td>0.686275</td>\n",
       "      <td>0.352941</td>\n",
       "      <td>2.343137</td>\n",
       "      <td>2.519608</td>\n",
       "      <td>0.598039</td>\n",
       "      <td>0.225490</td>\n",
       "      <td>0.686275</td>\n",
       "      <td>0.549020</td>\n",
       "      <td>0.901961</td>\n",
       "      <td>1.696078</td>\n",
       "      <td>0.764706</td>\n",
       "      <td>0.588235</td>\n",
       "    </tr>\n",
       "    <tr>\n",
       "      <th>std</th>\n",
       "      <td>0.466298</td>\n",
       "      <td>0.480245</td>\n",
       "      <td>1.189851</td>\n",
       "      <td>1.744754</td>\n",
       "      <td>0.492715</td>\n",
       "      <td>0.419968</td>\n",
       "      <td>0.832275</td>\n",
       "      <td>0.500049</td>\n",
       "      <td>0.298836</td>\n",
       "      <td>1.325972</td>\n",
       "      <td>0.426277</td>\n",
       "      <td>0.494583</td>\n",
       "    </tr>\n",
       "    <tr>\n",
       "      <th>min</th>\n",
       "      <td>0.000000</td>\n",
       "      <td>0.000000</td>\n",
       "      <td>0.000000</td>\n",
       "      <td>0.000000</td>\n",
       "      <td>0.000000</td>\n",
       "      <td>0.000000</td>\n",
       "      <td>0.000000</td>\n",
       "      <td>0.000000</td>\n",
       "      <td>0.000000</td>\n",
       "      <td>0.000000</td>\n",
       "      <td>0.000000</td>\n",
       "      <td>0.000000</td>\n",
       "    </tr>\n",
       "    <tr>\n",
       "      <th>25%</th>\n",
       "      <td>0.000000</td>\n",
       "      <td>0.000000</td>\n",
       "      <td>1.000000</td>\n",
       "      <td>1.000000</td>\n",
       "      <td>0.000000</td>\n",
       "      <td>0.000000</td>\n",
       "      <td>0.000000</td>\n",
       "      <td>0.000000</td>\n",
       "      <td>1.000000</td>\n",
       "      <td>0.000000</td>\n",
       "      <td>1.000000</td>\n",
       "      <td>0.000000</td>\n",
       "    </tr>\n",
       "    <tr>\n",
       "      <th>50%</th>\n",
       "      <td>1.000000</td>\n",
       "      <td>0.000000</td>\n",
       "      <td>2.000000</td>\n",
       "      <td>2.000000</td>\n",
       "      <td>1.000000</td>\n",
       "      <td>0.000000</td>\n",
       "      <td>0.000000</td>\n",
       "      <td>1.000000</td>\n",
       "      <td>1.000000</td>\n",
       "      <td>2.000000</td>\n",
       "      <td>1.000000</td>\n",
       "      <td>1.000000</td>\n",
       "    </tr>\n",
       "    <tr>\n",
       "      <th>75%</th>\n",
       "      <td>1.000000</td>\n",
       "      <td>1.000000</td>\n",
       "      <td>3.000000</td>\n",
       "      <td>4.000000</td>\n",
       "      <td>1.000000</td>\n",
       "      <td>0.000000</td>\n",
       "      <td>1.000000</td>\n",
       "      <td>1.000000</td>\n",
       "      <td>1.000000</td>\n",
       "      <td>3.000000</td>\n",
       "      <td>1.000000</td>\n",
       "      <td>1.000000</td>\n",
       "    </tr>\n",
       "    <tr>\n",
       "      <th>max</th>\n",
       "      <td>1.000000</td>\n",
       "      <td>1.000000</td>\n",
       "      <td>5.000000</td>\n",
       "      <td>6.000000</td>\n",
       "      <td>1.000000</td>\n",
       "      <td>1.000000</td>\n",
       "      <td>3.000000</td>\n",
       "      <td>1.000000</td>\n",
       "      <td>1.000000</td>\n",
       "      <td>3.000000</td>\n",
       "      <td>1.000000</td>\n",
       "      <td>1.000000</td>\n",
       "    </tr>\n",
       "  </tbody>\n",
       "</table>\n",
       "</div>"
      ],
      "text/plain": [
       "       domestic_waste_disposal   household  education_of_head_of_household  \\\n",
       "count               102.000000  102.000000                      102.000000   \n",
       "mean                  0.686275    0.352941                        2.343137   \n",
       "std                   0.466298    0.480245                        1.189851   \n",
       "min                   0.000000    0.000000                        0.000000   \n",
       "25%                   0.000000    0.000000                        1.000000   \n",
       "50%                   1.000000    0.000000                        2.000000   \n",
       "75%                   1.000000    1.000000                        3.000000   \n",
       "max                   1.000000    1.000000                        5.000000   \n",
       "\n",
       "       occupation_of_head_of_household  household_income  household_expense  \\\n",
       "count                       102.000000        102.000000         102.000000   \n",
       "mean                          2.519608          0.598039           0.225490   \n",
       "std                           1.744754          0.492715           0.419968   \n",
       "min                           0.000000          0.000000           0.000000   \n",
       "25%                           1.000000          0.000000           0.000000   \n",
       "50%                           2.000000          1.000000           0.000000   \n",
       "75%                           4.000000          1.000000           0.000000   \n",
       "max                           6.000000          1.000000           1.000000   \n",
       "\n",
       "       house_ownership_status  drain_time_(in_year)  type_of_toilet  \\\n",
       "count              102.000000            102.000000      102.000000   \n",
       "mean                 0.686275              0.549020        0.901961   \n",
       "std                  0.832275              0.500049        0.298836   \n",
       "min                  0.000000              0.000000        0.000000   \n",
       "25%                  0.000000              0.000000        1.000000   \n",
       "50%                  0.000000              1.000000        1.000000   \n",
       "75%                  1.000000              1.000000        1.000000   \n",
       "max                  3.000000              1.000000        1.000000   \n",
       "\n",
       "       illness_of_a_family_member  water_for_bathing_washing  \\\n",
       "count                  102.000000                 102.000000   \n",
       "mean                     1.696078                   0.764706   \n",
       "std                      1.325972                   0.426277   \n",
       "min                      0.000000                   0.000000   \n",
       "25%                      0.000000                   1.000000   \n",
       "50%                      2.000000                   1.000000   \n",
       "75%                      3.000000                   1.000000   \n",
       "max                      3.000000                   1.000000   \n",
       "\n",
       "       sanitary_behavior  \n",
       "count         102.000000  \n",
       "mean            0.588235  \n",
       "std             0.494583  \n",
       "min             0.000000  \n",
       "25%             0.000000  \n",
       "50%             1.000000  \n",
       "75%             1.000000  \n",
       "max             1.000000  "
      ]
     },
     "execution_count": 4,
     "metadata": {},
     "output_type": "execute_result"
    }
   ],
   "source": [
    "data.describe()"
   ]
  },
  {
   "cell_type": "code",
   "execution_count": 5,
   "metadata": {},
   "outputs": [
    {
     "data": {
      "text/html": [
       "<div>\n",
       "<style scoped>\n",
       "    .dataframe tbody tr th:only-of-type {\n",
       "        vertical-align: middle;\n",
       "    }\n",
       "\n",
       "    .dataframe tbody tr th {\n",
       "        vertical-align: top;\n",
       "    }\n",
       "\n",
       "    .dataframe thead th {\n",
       "        text-align: right;\n",
       "    }\n",
       "</style>\n",
       "<table border=\"1\" class=\"dataframe\">\n",
       "  <thead>\n",
       "    <tr style=\"text-align: right;\">\n",
       "      <th></th>\n",
       "      <th>domestic_waste_disposal</th>\n",
       "      <th>household</th>\n",
       "      <th>education_of_head_of_household</th>\n",
       "      <th>occupation_of_head_of_household</th>\n",
       "      <th>household_income</th>\n",
       "      <th>household_expense</th>\n",
       "      <th>house_ownership_status</th>\n",
       "      <th>drain_time_(in_year)</th>\n",
       "      <th>type_of_toilet</th>\n",
       "      <th>illness_of_a_family_member</th>\n",
       "      <th>water_for_bathing_washing</th>\n",
       "      <th>sanitary_behavior</th>\n",
       "    </tr>\n",
       "  </thead>\n",
       "  <tbody>\n",
       "    <tr>\n",
       "      <th>0</th>\n",
       "      <td>1</td>\n",
       "      <td>0</td>\n",
       "      <td>3</td>\n",
       "      <td>2</td>\n",
       "      <td>1</td>\n",
       "      <td>0</td>\n",
       "      <td>0</td>\n",
       "      <td>1</td>\n",
       "      <td>1</td>\n",
       "      <td>3</td>\n",
       "      <td>1</td>\n",
       "      <td>1</td>\n",
       "    </tr>\n",
       "  </tbody>\n",
       "</table>\n",
       "</div>"
      ],
      "text/plain": [
       "   domestic_waste_disposal  household  education_of_head_of_household  \\\n",
       "0                        1          0                               3   \n",
       "\n",
       "   occupation_of_head_of_household  household_income  household_expense  \\\n",
       "0                                2                 1                  0   \n",
       "\n",
       "   house_ownership_status  drain_time_(in_year)  type_of_toilet  \\\n",
       "0                       0                     1               1   \n",
       "\n",
       "   illness_of_a_family_member  water_for_bathing_washing  sanitary_behavior  \n",
       "0                           3                          1                  1  "
      ]
     },
     "execution_count": 5,
     "metadata": {},
     "output_type": "execute_result"
    }
   ],
   "source": [
    "from statistics import mode\n",
    "data.mode()"
   ]
  },
  {
   "cell_type": "markdown",
   "metadata": {},
   "source": [
    "### Detecting Missing Values and Outlier"
   ]
  },
  {
   "cell_type": "code",
   "execution_count": 6,
   "metadata": {},
   "outputs": [
    {
     "name": "stdout",
     "output_type": "stream",
     "text": [
      "<class 'pandas.core.frame.DataFrame'>\n",
      "RangeIndex: 102 entries, 0 to 101\n",
      "Data columns (total 12 columns):\n",
      " #   Column                           Non-Null Count  Dtype\n",
      "---  ------                           --------------  -----\n",
      " 0   domestic_waste_disposal          102 non-null    int64\n",
      " 1   household                        102 non-null    int64\n",
      " 2   education_of_head_of_household   102 non-null    int64\n",
      " 3   occupation_of_head_of_household  102 non-null    int64\n",
      " 4   household_income                 102 non-null    int64\n",
      " 5   household_expense                102 non-null    int64\n",
      " 6   house_ownership_status           102 non-null    int64\n",
      " 7   drain_time_(in_year)             102 non-null    int64\n",
      " 8   type_of_toilet                   102 non-null    int64\n",
      " 9   illness_of_a_family_member       102 non-null    int64\n",
      " 10  water_for_bathing_washing        102 non-null    int64\n",
      " 11  sanitary_behavior                102 non-null    int64\n",
      "dtypes: int64(12)\n",
      "memory usage: 9.7 KB\n"
     ]
    }
   ],
   "source": [
    "data.info()"
   ]
  },
  {
   "cell_type": "code",
   "execution_count": 7,
   "metadata": {},
   "outputs": [
    {
     "data": {
      "text/plain": [
       "domestic_waste_disposal            0\n",
       "household                          0\n",
       "education_of_head_of_household     0\n",
       "occupation_of_head_of_household    0\n",
       "household_income                   0\n",
       "household_expense                  0\n",
       "house_ownership_status             0\n",
       "drain_time_(in_year)               0\n",
       "type_of_toilet                     0\n",
       "illness_of_a_family_member         0\n",
       "water_for_bathing_washing          0\n",
       "sanitary_behavior                  0\n",
       "dtype: int64"
      ]
     },
     "execution_count": 7,
     "metadata": {},
     "output_type": "execute_result"
    }
   ],
   "source": [
    "# Detecting Missing Value\n",
    "data.isnull().sum()"
   ]
  },
  {
   "cell_type": "code",
   "execution_count": 8,
   "metadata": {},
   "outputs": [
    {
     "data": {
      "image/png": "[encoded data removed]",
      "text/plain": [
       "<Figure size 1440x1080 with 12 Axes>"
      ]
     },
     "metadata": {
      "needs_background": "light"
     },
     "output_type": "display_data"
    }
   ],
   "source": [
    "# Create a Boxplot\n",
    "data.plot(kind = 'box', subplots = True, figsize = (20,15), layout = (3,4), sharex = False, sharey = False)\n",
    "plt.show()"
   ]
  },
  {
   "cell_type": "code",
   "execution_count": 9,
   "metadata": {},
   "outputs": [
    {
     "name": "stdout",
     "output_type": "stream",
     "text": [
      "[[0.6761234  1.3540064  0.55478101 ... 1.28543733 0.5547002  0.83666003]\n",
      " [0.6761234  0.73854895 0.28981097 ... 1.28543733 0.5547002  0.83666003]\n",
      " [0.6761234  1.3540064  1.13440296 ... 1.28543733 0.5547002  0.83666003]\n",
      " ...\n",
      " [0.6761234  0.73854895 0.55478101 ... 1.28543733 0.5547002  0.83666003]\n",
      " [0.6761234  0.73854895 0.28981097 ... 0.23033848 0.5547002  0.83666003]\n",
      " [0.6761234  0.73854895 0.55478101 ... 1.28543733 0.5547002  0.83666003]]\n"
     ]
    }
   ],
   "source": [
    "from scipy import stats\n",
    "z = np.abs(stats.zscore(data._get_numeric_data()))\n",
    "print(z)"
   ]
  },
  {
   "cell_type": "code",
   "execution_count": 10,
   "metadata": {},
   "outputs": [
    {
     "name": "stdout",
     "output_type": "stream",
     "text": [
      "(92, 12)\n"
     ]
    }
   ],
   "source": [
    "outlier = data[(z < 3).all(axis = 1)]\n",
    "print(outlier.shape)"
   ]
  },
  {
   "cell_type": "code",
   "execution_count": 11,
   "metadata": {},
   "outputs": [],
   "source": [
    "import seaborn as sns\n",
    "sns.set(style = \"whitegrid\")"
   ]
  },
  {
   "cell_type": "code",
   "execution_count": 12,
   "metadata": {},
   "outputs": [
    {
     "data": {
      "text/html": [
       "<div>\n",
       "<style scoped>\n",
       "    .dataframe tbody tr th:only-of-type {\n",
       "        vertical-align: middle;\n",
       "    }\n",
       "\n",
       "    .dataframe tbody tr th {\n",
       "        vertical-align: top;\n",
       "    }\n",
       "\n",
       "    .dataframe thead th {\n",
       "        text-align: right;\n",
       "    }\n",
       "</style>\n",
       "<table border=\"1\" class=\"dataframe\">\n",
       "  <thead>\n",
       "    <tr style=\"text-align: right;\">\n",
       "      <th></th>\n",
       "      <th>Notes</th>\n",
       "      <th>Observation</th>\n",
       "    </tr>\n",
       "  </thead>\n",
       "  <tbody>\n",
       "    <tr>\n",
       "      <th>0</th>\n",
       "      <td>There is no outlier</td>\n",
       "      <td>92</td>\n",
       "    </tr>\n",
       "    <tr>\n",
       "      <th>1</th>\n",
       "      <td>Outlier</td>\n",
       "      <td>10</td>\n",
       "    </tr>\n",
       "  </tbody>\n",
       "</table>\n",
       "</div>"
      ],
      "text/plain": [
       "                 Notes  Observation\n",
       "0  There is no outlier           92\n",
       "1              Outlier           10"
      ]
     },
     "execution_count": 12,
     "metadata": {},
     "output_type": "execute_result"
    }
   ],
   "source": [
    "c = pd.DataFrame([])\n",
    "c[\"Notes\"] = [\"There is no outlier\",\"Outlier\"]\n",
    "c[\"Observation\"] = [92,102-92]\n",
    "c"
   ]
  },
  {
   "cell_type": "code",
   "execution_count": 13,
   "metadata": {},
   "outputs": [
    {
     "data": {
      "image/png": "[encoded data removed]",
      "text/plain": [
       "<Figure size 432x288 with 1 Axes>"
      ]
     },
     "metadata": {},
     "output_type": "display_data"
    }
   ],
   "source": [
    "plot = sns.barplot(x = \"Notes\", y = \"Observation\", data = c)"
   ]
  },
  {
   "cell_type": "markdown",
   "metadata": {},
   "source": [
    "### Splitting Data"
   ]
  },
  {
   "cell_type": "code",
   "execution_count": 14,
   "metadata": {},
   "outputs": [],
   "source": [
    "# Splitting Data into Training and Testing\n",
    "from sklearn.model_selection import train_test_split\n",
    "y = data['domestic_waste_disposal']\n",
    "x = data.drop(['domestic_waste_disposal'], axis = 1)\n",
    "x_train, x_test, y_train, y_test = train_test_split(x, y, test_size = 0.20, random_state = 123)"
   ]
  },
  {
   "cell_type": "code",
   "execution_count": 15,
   "metadata": {},
   "outputs": [
    {
     "data": {
      "image/png": "[encoded data removed]",
      "text/plain": [
       "<Figure size 432x288 with 1 Axes>"
      ]
     },
     "metadata": {},
     "output_type": "display_data"
    }
   ],
   "source": [
    "sns.countplot(x = y_train)\n",
    "plt.show()"
   ]
  },
  {
   "cell_type": "code",
   "execution_count": 16,
   "metadata": {},
   "outputs": [
    {
     "data": {
      "image/png": "[encoded data removed]",
      "text/plain": [
       "<Figure size 432x288 with 1 Axes>"
      ]
     },
     "metadata": {},
     "output_type": "display_data"
    }
   ],
   "source": [
    "sns.countplot(x = y_test)\n",
    "plt.show()"
   ]
  },
  {
   "cell_type": "markdown",
   "metadata": {},
   "source": [
    "### Logistics Regression"
   ]
  },
  {
   "cell_type": "code",
   "execution_count": 17,
   "metadata": {},
   "outputs": [],
   "source": [
    "from sklearn.linear_model import LogisticRegression"
   ]
  },
  {
   "cell_type": "code",
   "execution_count": 18,
   "metadata": {},
   "outputs": [],
   "source": [
    "logreg = LogisticRegression(random_state = 0)"
   ]
  },
  {
   "cell_type": "code",
   "execution_count": 19,
   "metadata": {},
   "outputs": [
    {
     "data": {
      "text/plain": [
       "0.7530864197530864"
      ]
     },
     "execution_count": 19,
     "metadata": {},
     "output_type": "execute_result"
    }
   ],
   "source": [
    "model = logreg.fit(x_train,y_train)\n",
    "logreg.score(x_train, y_train)"
   ]
  },
  {
   "cell_type": "code",
   "execution_count": 20,
   "metadata": {},
   "outputs": [],
   "source": [
    "logreg_predict = logreg.predict(x_test)"
   ]
  },
  {
   "cell_type": "code",
   "execution_count": 21,
   "metadata": {},
   "outputs": [
    {
     "data": {
      "text/html": [
       "<div>\n",
       "<style scoped>\n",
       "    .dataframe tbody tr th:only-of-type {\n",
       "        vertical-align: middle;\n",
       "    }\n",
       "\n",
       "    .dataframe tbody tr th {\n",
       "        vertical-align: top;\n",
       "    }\n",
       "\n",
       "    .dataframe thead th {\n",
       "        text-align: right;\n",
       "    }\n",
       "</style>\n",
       "<table border=\"1\" class=\"dataframe\">\n",
       "  <thead>\n",
       "    <tr style=\"text-align: right;\">\n",
       "      <th></th>\n",
       "      <th>0</th>\n",
       "      <th>1</th>\n",
       "    </tr>\n",
       "  </thead>\n",
       "  <tbody>\n",
       "    <tr>\n",
       "      <th>0</th>\n",
       "      <td>1</td>\n",
       "      <td>3</td>\n",
       "    </tr>\n",
       "    <tr>\n",
       "      <th>1</th>\n",
       "      <td>3</td>\n",
       "      <td>14</td>\n",
       "    </tr>\n",
       "  </tbody>\n",
       "</table>\n",
       "</div>"
      ],
      "text/plain": [
       "   0   1\n",
       "0  1   3\n",
       "1  3  14"
      ]
     },
     "execution_count": 21,
     "metadata": {},
     "output_type": "execute_result"
    }
   ],
   "source": [
    "conf_matrix_logreg = confusion_matrix(y_test, logreg_predict)\n",
    "Class = data['domestic_waste_disposal'].unique()\n",
    "conf_matrix_logreg2 = pd.DataFrame(data = conf_matrix_logreg)\n",
    "conf_matrix_logreg2"
   ]
  },
  {
   "cell_type": "code",
   "execution_count": 22,
   "metadata": {},
   "outputs": [
    {
     "name": "stdout",
     "output_type": "stream",
     "text": [
      "Accuracy Logistic Regression  : 0.7142857142857143\n",
      "Precision Logistic Regression : 0.8235294117647058\n",
      "Recall Logistic Regression    : 0.8235294117647058\n",
      "AUC Logistic Regression       : 0.5367647058823529\n"
     ]
    }
   ],
   "source": [
    "accuracy_logreg = accuracy_score(y_test, logreg_predict)\n",
    "precision_logreg = precision_score(y_test, logreg_predict)\n",
    "recall_logreg = recall_score(y_test, logreg_predict)\n",
    "fpr_logreg, tpr_logreg, thresholds = roc_curve(y_test, logreg_predict)\n",
    "auc_logreg = auc(fpr_logreg,tpr_logreg)\n",
    "print(\"Accuracy Logistic Regression  :\", accuracy_logreg)\n",
    "print(\"Precision Logistic Regression :\", precision_logreg)\n",
    "print(\"Recall Logistic Regression    :\", recall_logreg)\n",
    "print('AUC Logistic Regression       :', auc_logreg)"
   ]
  },
  {
   "cell_type": "markdown",
   "metadata": {},
   "source": [
    "### Discriminant"
   ]
  },
  {
   "cell_type": "code",
   "execution_count": 23,
   "metadata": {},
   "outputs": [],
   "source": [
    "from sklearn.discriminant_analysis import LinearDiscriminantAnalysis"
   ]
  },
  {
   "cell_type": "code",
   "execution_count": 24,
   "metadata": {},
   "outputs": [
    {
     "data": {
      "text/plain": [
       "LinearDiscriminantAnalysis(n_components=None, priors=None, shrinkage=None,\n",
       "                           solver='svd', store_covariance=False, tol=0.0001)"
      ]
     },
     "execution_count": 24,
     "metadata": {},
     "output_type": "execute_result"
    }
   ],
   "source": [
    "dis = LinearDiscriminantAnalysis()\n",
    "dis.fit(x_train,y_train)"
   ]
  },
  {
   "cell_type": "code",
   "execution_count": 25,
   "metadata": {},
   "outputs": [
    {
     "data": {
      "text/plain": [
       "0.7777777777777778"
      ]
     },
     "execution_count": 25,
     "metadata": {},
     "output_type": "execute_result"
    }
   ],
   "source": [
    "dis.score(x_train,y_train)"
   ]
  },
  {
   "cell_type": "code",
   "execution_count": 26,
   "metadata": {},
   "outputs": [],
   "source": [
    "dis_predict = dis.predict(x_test)"
   ]
  },
  {
   "cell_type": "code",
   "execution_count": 27,
   "metadata": {},
   "outputs": [
    {
     "data": {
      "text/html": [
       "<div>\n",
       "<style scoped>\n",
       "    .dataframe tbody tr th:only-of-type {\n",
       "        vertical-align: middle;\n",
       "    }\n",
       "\n",
       "    .dataframe tbody tr th {\n",
       "        vertical-align: top;\n",
       "    }\n",
       "\n",
       "    .dataframe thead th {\n",
       "        text-align: right;\n",
       "    }\n",
       "</style>\n",
       "<table border=\"1\" class=\"dataframe\">\n",
       "  <thead>\n",
       "    <tr style=\"text-align: right;\">\n",
       "      <th></th>\n",
       "      <th>0</th>\n",
       "      <th>1</th>\n",
       "    </tr>\n",
       "  </thead>\n",
       "  <tbody>\n",
       "    <tr>\n",
       "      <th>0</th>\n",
       "      <td>1</td>\n",
       "      <td>3</td>\n",
       "    </tr>\n",
       "    <tr>\n",
       "      <th>1</th>\n",
       "      <td>5</td>\n",
       "      <td>12</td>\n",
       "    </tr>\n",
       "  </tbody>\n",
       "</table>\n",
       "</div>"
      ],
      "text/plain": [
       "   0   1\n",
       "0  1   3\n",
       "1  5  12"
      ]
     },
     "execution_count": 27,
     "metadata": {},
     "output_type": "execute_result"
    }
   ],
   "source": [
    "conf_matrix_dis = confusion_matrix(y_test, dis_predict)\n",
    "Class = data['domestic_waste_disposal'].unique()\n",
    "conf_matrix_dis2 = pd.DataFrame(data = conf_matrix_dis)\n",
    "conf_matrix_dis2"
   ]
  },
  {
   "cell_type": "code",
   "execution_count": 28,
   "metadata": {},
   "outputs": [
    {
     "name": "stdout",
     "output_type": "stream",
     "text": [
      "Accuracy Discriminant  : 0.6190476190476191\n",
      "Precision Discriminant : 0.8\n",
      "Recall Discriminant    : 0.7058823529411765\n",
      "AUC Discriminant       : 0.47794117647058826\n"
     ]
    }
   ],
   "source": [
    "accuracy_dis = accuracy_score(y_test, dis_predict)\n",
    "precision_dis = precision_score(y_test, dis_predict)\n",
    "recall_dis = recall_score(y_test, dis_predict)\n",
    "fpr_dis, tpr_dis, thresholds = roc_curve(y_test, dis_predict)\n",
    "auc_dis = auc(fpr_dis,tpr_dis)\n",
    "print(\"Accuracy Discriminant  :\", accuracy_dis)\n",
    "print(\"Precision Discriminant :\", precision_dis)\n",
    "print(\"Recall Discriminant    :\", recall_dis)\n",
    "print('AUC Discriminant       :', auc_dis)"
   ]
  },
  {
   "cell_type": "markdown",
   "metadata": {},
   "source": [
    "### Random Forest"
   ]
  },
  {
   "cell_type": "code",
   "execution_count": 29,
   "metadata": {},
   "outputs": [
    {
     "data": {
      "text/plain": [
       "RandomForestClassifier(bootstrap=True, ccp_alpha=0.0, class_weight=None,\n",
       "                       criterion='gini', max_depth=None, max_features='auto',\n",
       "                       max_leaf_nodes=None, max_samples=None,\n",
       "                       min_impurity_decrease=0.0, min_impurity_split=None,\n",
       "                       min_samples_leaf=1, min_samples_split=2,\n",
       "                       min_weight_fraction_leaf=0.0, n_estimators=10,\n",
       "                       n_jobs=None, oob_score=False, random_state=None,\n",
       "                       verbose=0, warm_start=False)"
      ]
     },
     "execution_count": 29,
     "metadata": {},
     "output_type": "execute_result"
    }
   ],
   "source": [
    "from sklearn.ensemble import RandomForestClassifier\n",
    "rf = RandomForestClassifier(n_estimators=10)\n",
    "rf.fit(x_train,y_train)"
   ]
  },
  {
   "cell_type": "code",
   "execution_count": 30,
   "metadata": {},
   "outputs": [
    {
     "data": {
      "text/plain": [
       "1.0"
      ]
     },
     "execution_count": 30,
     "metadata": {},
     "output_type": "execute_result"
    }
   ],
   "source": [
    "rf.score(x_train,y_train)"
   ]
  },
  {
   "cell_type": "code",
   "execution_count": 31,
   "metadata": {},
   "outputs": [],
   "source": [
    "rf_predict = rf.predict(x_test)"
   ]
  },
  {
   "cell_type": "code",
   "execution_count": 32,
   "metadata": {},
   "outputs": [
    {
     "data": {
      "text/html": [
       "<div>\n",
       "<style scoped>\n",
       "    .dataframe tbody tr th:only-of-type {\n",
       "        vertical-align: middle;\n",
       "    }\n",
       "\n",
       "    .dataframe tbody tr th {\n",
       "        vertical-align: top;\n",
       "    }\n",
       "\n",
       "    .dataframe thead th {\n",
       "        text-align: right;\n",
       "    }\n",
       "</style>\n",
       "<table border=\"1\" class=\"dataframe\">\n",
       "  <thead>\n",
       "    <tr style=\"text-align: right;\">\n",
       "      <th></th>\n",
       "      <th>0</th>\n",
       "      <th>1</th>\n",
       "    </tr>\n",
       "  </thead>\n",
       "  <tbody>\n",
       "    <tr>\n",
       "      <th>0</th>\n",
       "      <td>2</td>\n",
       "      <td>2</td>\n",
       "    </tr>\n",
       "    <tr>\n",
       "      <th>1</th>\n",
       "      <td>3</td>\n",
       "      <td>14</td>\n",
       "    </tr>\n",
       "  </tbody>\n",
       "</table>\n",
       "</div>"
      ],
      "text/plain": [
       "   0   1\n",
       "0  2   2\n",
       "1  3  14"
      ]
     },
     "execution_count": 32,
     "metadata": {},
     "output_type": "execute_result"
    }
   ],
   "source": [
    "conf_matrix_rf = confusion_matrix(y_test, rf_predict)\n",
    "Class = data['domestic_waste_disposal'].unique()\n",
    "conf_matrix_rf2 = pd.DataFrame(data = conf_matrix_rf)\n",
    "conf_matrix_rf2"
   ]
  },
  {
   "cell_type": "code",
   "execution_count": 33,
   "metadata": {},
   "outputs": [
    {
     "name": "stdout",
     "output_type": "stream",
     "text": [
      "Accuracy Random Forest  : 0.7619047619047619\n",
      "Precision Random Forest : 0.875\n",
      "Recall Random Forest    : 0.8235294117647058\n",
      "AUC Random Forest       : 0.6617647058823529\n"
     ]
    }
   ],
   "source": [
    "accuracy_rf = accuracy_score(y_test, rf_predict)\n",
    "precision_rf = precision_score(y_test, rf_predict)\n",
    "recall_rf = recall_score(y_test, rf_predict)\n",
    "fpr_rf, tpr_rf, thresholds = roc_curve(y_test, rf_predict)\n",
    "auc_rf = auc(fpr_rf,tpr_rf)\n",
    "print(\"Accuracy Random Forest  :\", accuracy_rf)\n",
    "print(\"Precision Random Forest :\", precision_rf)\n",
    "print(\"Recall Random Forest    :\", recall_rf)\n",
    "print('AUC Random Forest       :', auc_rf)"
   ]
  },
  {
   "cell_type": "markdown",
   "metadata": {},
   "source": [
    "### Naive Bayes"
   ]
  },
  {
   "cell_type": "code",
   "execution_count": 34,
   "metadata": {},
   "outputs": [
    {
     "data": {
      "text/plain": [
       "GaussianNB(priors=None, var_smoothing=1e-09)"
      ]
     },
     "execution_count": 34,
     "metadata": {},
     "output_type": "execute_result"
    }
   ],
   "source": [
    "from sklearn.naive_bayes import GaussianNB\n",
    "nb = GaussianNB()\n",
    "nb.fit(x_train,y_train)"
   ]
  },
  {
   "cell_type": "code",
   "execution_count": 35,
   "metadata": {},
   "outputs": [
    {
     "data": {
      "text/plain": [
       "0.7283950617283951"
      ]
     },
     "execution_count": 35,
     "metadata": {},
     "output_type": "execute_result"
    }
   ],
   "source": [
    "nb.score(x_train,y_train)"
   ]
  },
  {
   "cell_type": "code",
   "execution_count": 36,
   "metadata": {},
   "outputs": [],
   "source": [
    "ynb_predict = nb.predict(x_test)\n",
    "ynb_proba = nb.predict_proba(x_test)"
   ]
  },
  {
   "cell_type": "code",
   "execution_count": 37,
   "metadata": {},
   "outputs": [
    {
     "data": {
      "text/html": [
       "<div>\n",
       "<style scoped>\n",
       "    .dataframe tbody tr th:only-of-type {\n",
       "        vertical-align: middle;\n",
       "    }\n",
       "\n",
       "    .dataframe tbody tr th {\n",
       "        vertical-align: top;\n",
       "    }\n",
       "\n",
       "    .dataframe thead th {\n",
       "        text-align: right;\n",
       "    }\n",
       "</style>\n",
       "<table border=\"1\" class=\"dataframe\">\n",
       "  <thead>\n",
       "    <tr style=\"text-align: right;\">\n",
       "      <th></th>\n",
       "      <th>0</th>\n",
       "      <th>1</th>\n",
       "    </tr>\n",
       "  </thead>\n",
       "  <tbody>\n",
       "    <tr>\n",
       "      <th>0</th>\n",
       "      <td>2</td>\n",
       "      <td>2</td>\n",
       "    </tr>\n",
       "    <tr>\n",
       "      <th>1</th>\n",
       "      <td>5</td>\n",
       "      <td>12</td>\n",
       "    </tr>\n",
       "  </tbody>\n",
       "</table>\n",
       "</div>"
      ],
      "text/plain": [
       "   0   1\n",
       "0  2   2\n",
       "1  5  12"
      ]
     },
     "execution_count": 37,
     "metadata": {},
     "output_type": "execute_result"
    }
   ],
   "source": [
    "conf_matrix_nb = confusion_matrix(y_test, ynb_predict)\n",
    "Class = data['domestic_waste_disposal'].unique()\n",
    "conf_matrix_nb2 = pd.DataFrame(data = conf_matrix_nb)\n",
    "conf_matrix_nb2"
   ]
  },
  {
   "cell_type": "code",
   "execution_count": 38,
   "metadata": {},
   "outputs": [
    {
     "name": "stdout",
     "output_type": "stream",
     "text": [
      "Accuracy Naive Bayes  : 0.6666666666666666\n",
      "Precision Naive Bayes : 0.8571428571428571\n",
      "Recall Naive Bayes    : 0.7058823529411765\n",
      "AUC Naive Bayes       : 0.6029411764705883\n"
     ]
    }
   ],
   "source": [
    "accuracy_nb = accuracy_score(y_test, ynb_predict)\n",
    "precision_nb = precision_score(y_test, ynb_predict)\n",
    "recall_nb = recall_score(y_test, ynb_predict)\n",
    "fpr_nb, tpr_nb, thresholds = roc_curve(y_test, ynb_predict)\n",
    "auc_nb = auc(fpr_nb,tpr_nb)\n",
    "print(\"Accuracy Naive Bayes  :\", accuracy_nb)\n",
    "print(\"Precision Naive Bayes :\", precision_nb)\n",
    "print(\"Recall Naive Bayes    :\", recall_nb)\n",
    "print('AUC Naive Bayes       :', auc_nb)"
   ]
  },
  {
   "cell_type": "markdown",
   "metadata": {},
   "source": [
    "### K-Nearest Neighbor"
   ]
  },
  {
   "cell_type": "code",
   "execution_count": 39,
   "metadata": {},
   "outputs": [],
   "source": [
    "from sklearn.neighbors import KNeighborsClassifier"
   ]
  },
  {
   "cell_type": "code",
   "execution_count": 40,
   "metadata": {},
   "outputs": [],
   "source": [
    "knn = KNeighborsClassifier(n_neighbors = 5)"
   ]
  },
  {
   "cell_type": "code",
   "execution_count": 41,
   "metadata": {},
   "outputs": [],
   "source": [
    "from sklearn.model_selection import KFold, cross_val_score"
   ]
  },
  {
   "cell_type": "code",
   "execution_count": 42,
   "metadata": {},
   "outputs": [
    {
     "name": "stdout",
     "output_type": "stream",
     "text": [
      "Average of Accuracy kNN  : 0.6536363636363636\n",
      "Average of Precision kNN : 0.6932539682539682\n",
      "Average of Recall kNN    : 0.8032142857142857\n",
      "Average of AUC kNN       : 0.6077103174603175\n"
     ]
    }
   ],
   "source": [
    "kfold = KFold(n_splits = 10)\n",
    "accuracy_knn = cross_val_score(knn, x, y, cv = kfold, scoring = 'accuracy')\n",
    "precision_knn = cross_val_score(knn, x, y, cv = kfold, scoring = 'precision')\n",
    "recall_knn = cross_val_score(knn, x, y, cv = kfold, scoring = 'recall')\n",
    "auc_knn = cross_val_score(knn, x, y, cv = kfold, scoring = 'roc_auc')\n",
    "print(\"Average of Accuracy kNN  :\", accuracy_knn.mean())\n",
    "print(\"Average of Precision kNN :\", precision_knn.mean())\n",
    "print(\"Average of Recall kNN    :\", recall_knn.mean())\n",
    "print(\"Average of AUC kNN       :\", auc_knn.mean())"
   ]
  },
  {
   "cell_type": "markdown",
   "metadata": {},
   "source": [
    "#### Find the Best k"
   ]
  },
  {
   "cell_type": "code",
   "execution_count": 43,
   "metadata": {},
   "outputs": [],
   "source": [
    "k_range = range(5,10)\n",
    "k_accuracy = []\n",
    "k_precision = []\n",
    "k_recall = []\n",
    "for k in k_range :\n",
    "    knn = KNeighborsClassifier(n_neighbors=k)\n",
    "    accuracy_knn = cross_val_score(knn, x, y, cv = kfold, scoring = 'accuracy')\n",
    "    k_accuracy.append(accuracy_knn.mean())\n",
    "    precision_knn = cross_val_score(knn, x, y, cv = kfold, scoring = 'precision')\n",
    "    k_precision.append(precision_knn.mean())\n",
    "    recall_knn = cross_val_score(knn, x, y, cv = kfold, scoring = 'recall')\n",
    "    k_recall.append(recall_knn.mean())"
   ]
  },
  {
   "cell_type": "code",
   "execution_count": 44,
   "metadata": {},
   "outputs": [
    {
     "name": "stdout",
     "output_type": "stream",
     "text": [
      "[0.6536363636363636, 0.6445454545454545, 0.6754545454545455, 0.6936363636363636, 0.7036363636363637]\n",
      "[0.6932539682539682, 0.6954761904761906, 0.6907467532467533, 0.7089285714285716, 0.7063492063492065]\n",
      "[0.8032142857142857, 0.7809920634920635, 0.8482142857142858, 0.8482142857142858, 0.9275]\n"
     ]
    }
   ],
   "source": [
    "print(k_accuracy)\n",
    "print(k_precision)\n",
    "print(k_recall)"
   ]
  },
  {
   "cell_type": "code",
   "execution_count": 45,
   "metadata": {},
   "outputs": [
    {
     "data": {
      "image/png": "[encoded data removed]",
      "text/plain": [
       "<Figure size 432x288 with 1 Axes>"
      ]
     },
     "metadata": {
      "needs_background": "light"
     },
     "output_type": "display_data"
    }
   ],
   "source": [
    "%matplotlib inline\n",
    "plt.plot(k_range, k_accuracy, color = 'pink')\n",
    "plt.plot(k_range, k_precision, color = 'purple')\n",
    "plt.plot(k_range, k_recall, color = 'cyan')\n",
    "plt.xlabel('Value of K for kNN')\n",
    "plt.ylabel('Cross-validated Value')\n",
    "plt.show()"
   ]
  },
  {
   "cell_type": "markdown",
   "metadata": {},
   "source": [
    "#### K-Nearest Neighbor with k = 9"
   ]
  },
  {
   "cell_type": "code",
   "execution_count": 46,
   "metadata": {},
   "outputs": [],
   "source": [
    "knn9 = KNeighborsClassifier(n_neighbors = 9)"
   ]
  },
  {
   "cell_type": "code",
   "execution_count": 47,
   "metadata": {},
   "outputs": [
    {
     "data": {
      "text/plain": [
       "KNeighborsClassifier(algorithm='auto', leaf_size=30, metric='minkowski',\n",
       "                     metric_params=None, n_jobs=None, n_neighbors=9, p=2,\n",
       "                     weights='uniform')"
      ]
     },
     "execution_count": 47,
     "metadata": {},
     "output_type": "execute_result"
    }
   ],
   "source": [
    "knn9.fit(x_train,y_train)"
   ]
  },
  {
   "cell_type": "code",
   "execution_count": 48,
   "metadata": {},
   "outputs": [
    {
     "data": {
      "text/plain": [
       "0.7777777777777778"
      ]
     },
     "execution_count": 48,
     "metadata": {},
     "output_type": "execute_result"
    }
   ],
   "source": [
    "knn9.score(x_train,y_train)"
   ]
  },
  {
   "cell_type": "code",
   "execution_count": 49,
   "metadata": {},
   "outputs": [],
   "source": [
    "yknn_predict = knn9.predict(x_test)"
   ]
  },
  {
   "cell_type": "code",
   "execution_count": 50,
   "metadata": {},
   "outputs": [
    {
     "data": {
      "text/html": [
       "<div>\n",
       "<style scoped>\n",
       "    .dataframe tbody tr th:only-of-type {\n",
       "        vertical-align: middle;\n",
       "    }\n",
       "\n",
       "    .dataframe tbody tr th {\n",
       "        vertical-align: top;\n",
       "    }\n",
       "\n",
       "    .dataframe thead th {\n",
       "        text-align: right;\n",
       "    }\n",
       "</style>\n",
       "<table border=\"1\" class=\"dataframe\">\n",
       "  <thead>\n",
       "    <tr style=\"text-align: right;\">\n",
       "      <th></th>\n",
       "      <th>0</th>\n",
       "      <th>1</th>\n",
       "    </tr>\n",
       "  </thead>\n",
       "  <tbody>\n",
       "    <tr>\n",
       "      <th>0</th>\n",
       "      <td>1</td>\n",
       "      <td>3</td>\n",
       "    </tr>\n",
       "    <tr>\n",
       "      <th>1</th>\n",
       "      <td>3</td>\n",
       "      <td>14</td>\n",
       "    </tr>\n",
       "  </tbody>\n",
       "</table>\n",
       "</div>"
      ],
      "text/plain": [
       "   0   1\n",
       "0  1   3\n",
       "1  3  14"
      ]
     },
     "execution_count": 50,
     "metadata": {},
     "output_type": "execute_result"
    }
   ],
   "source": [
    "conf_matrix_knn9 = confusion_matrix(y_test, yknn_predict)\n",
    "Class = data['domestic_waste_disposal'].unique()\n",
    "conf_matrix_knn92 = pd.DataFrame(data = conf_matrix_knn9)\n",
    "conf_matrix_knn92"
   ]
  },
  {
   "cell_type": "code",
   "execution_count": 51,
   "metadata": {},
   "outputs": [
    {
     "name": "stdout",
     "output_type": "stream",
     "text": [
      "Average of Accuracy kNN  : 0.6274509803921569\n",
      "Average of Precision kNN : 0.686174639635141\n",
      "Average of Recall kNN    : 0.8246753246753246\n",
      "Average of AUC kNN       : 0.6023448773448774\n"
     ]
    }
   ],
   "source": [
    "kfold = KFold(n_splits=3)\n",
    "accuracy_knn = cross_val_score(knn9, x, y, cv = kfold, scoring = 'accuracy')\n",
    "precision_knn = cross_val_score(knn9, x, y, cv = kfold, scoring = 'precision')\n",
    "recall_knn = cross_val_score(knn9, x, y, cv = kfold, scoring = 'recall')\n",
    "auc_knn = cross_val_score(knn9, x, y, cv = kfold, scoring = 'roc_auc')\n",
    "print(\"Average of Accuracy kNN  :\", accuracy_knn.mean())\n",
    "print(\"Average of Precision kNN :\", precision_knn.mean())\n",
    "print(\"Average of Recall kNN    :\", recall_knn.mean())\n",
    "print(\"Average of AUC kNN       :\", auc_knn.mean())"
   ]
  },
  {
   "cell_type": "markdown",
   "metadata": {},
   "source": [
    "### Support Vector Machine"
   ]
  },
  {
   "cell_type": "code",
   "execution_count": 52,
   "metadata": {},
   "outputs": [],
   "source": [
    "from sklearn import svm"
   ]
  },
  {
   "cell_type": "code",
   "execution_count": 53,
   "metadata": {},
   "outputs": [],
   "source": [
    "random_state = np.random.RandomState(0)\n",
    "svclin = svm.SVC(kernel = 'linear', probability = True, random_state = random_state)"
   ]
  },
  {
   "cell_type": "code",
   "execution_count": 54,
   "metadata": {},
   "outputs": [
    {
     "name": "stdout",
     "output_type": "stream",
     "text": [
      "Accuracy SVM  : 0.6372549019607843\n",
      "Precision SVM : 0.7144227886056971\n",
      "Recall SVM    : 0.7844202898550724\n"
     ]
    }
   ],
   "source": [
    "from sklearn.model_selection import StratifiedKFold, cross_val_score\n",
    "k_fold = StratifiedKFold(n_splits=3)\n",
    "accuracy_svm = cross_val_score(svclin, x, y, cv = k_fold, scoring = 'accuracy')\n",
    "precision_svm = cross_val_score(svclin, x, y, cv = k_fold, scoring = 'precision')\n",
    "recall_svm = cross_val_score(svclin, x, y, cv = k_fold, scoring = 'recall')\n",
    "accuracy_svm = np.array(accuracy_svm)\n",
    "precision_svm = np.array(precision_svm)\n",
    "recall_svm = np.array(recall_svm)\n",
    "print(\"Accuracy SVM  :\", accuracy_svm.mean())\n",
    "print(\"Precision SVM :\", precision_svm.mean())\n",
    "print(\"Recall SVM    :\", recall_svm.mean())"
   ]
  },
  {
   "cell_type": "code",
   "execution_count": 55,
   "metadata": {},
   "outputs": [],
   "source": [
    "from scipy import interp\n",
    "from itertools import cycle\n",
    "from sklearn.metrics import roc_curve,auc"
   ]
  },
  {
   "cell_type": "code",
   "execution_count": 56,
   "metadata": {},
   "outputs": [
    {
     "name": "stderr",
     "output_type": "stream",
     "text": [
      "C:\\Users\\ASUS\\anaconda3\\lib\\site-packages\\ipykernel_launcher.py:17: DeprecationWarning: scipy.interp is deprecated and will be removed in SciPy 2.0.0, use numpy.interp instead\n",
      "C:\\Users\\ASUS\\anaconda3\\lib\\site-packages\\ipykernel_launcher.py:17: DeprecationWarning: scipy.interp is deprecated and will be removed in SciPy 2.0.0, use numpy.interp instead\n",
      "C:\\Users\\ASUS\\anaconda3\\lib\\site-packages\\ipykernel_launcher.py:17: DeprecationWarning: scipy.interp is deprecated and will be removed in SciPy 2.0.0, use numpy.interp instead\n"
     ]
    },
    {
     "data": {
      "image/png": "[encoded data removed]",
      "text/plain": [
       "<Figure size 432x288 with 1 Axes>"
      ]
     },
     "metadata": {
      "needs_background": "light"
     },
     "output_type": "display_data"
    }
   ],
   "source": [
    "random_state = np.random.RandomState(0)\n",
    "n_samples, n_features = x.shape\n",
    "x = np.c_[x, random_state.randn(n_samples, 200*n_features)]\n",
    "\n",
    "cv = StratifiedKFold(n_splits = 3)\n",
    "classifier = svm.SVC(kernel = 'linear', probability = True, random_state = random_state)\n",
    "\n",
    "tprs = []\n",
    "aucs = []\n",
    "mean_fpr = np.linspace(0,1,100)\n",
    "\n",
    "i=0\n",
    "for train,test in cv.split(x,y):\n",
    "    probas_ = classifier.fit(x[train],y[train]).predict_proba(x[test])\n",
    "    # Compute ROC Curve and the Curve Area\n",
    "    fpr, tpr, thresholds = roc_curve(y[test], probas_[:,1])\n",
    "    tprs.append(interp(mean_fpr,fpr,tpr))\n",
    "    tprs[-1][0] = 0.0\n",
    "    roc_auc = auc(fpr,tpr)\n",
    "    aucs.append(roc_auc)\n",
    "    plt.plot(fpr, tpr, lw = 1, alpha = 0.3, label = 'ROC fold %d (AUC = %0.2f)' % (i, roc_auc))\n",
    "    i += 1\n",
    "\n",
    "plt.plot([0,1],[0,1],linestyle = '--', lw = 2, color = 'r', label = 'Chance', alpha = .8)\n",
    "\n",
    "mean_tpr = np.mean(tprs, axis = 0)\n",
    "mean_tpr[-1] = 1.0\n",
    "mean_auc = auc(mean_fpr,mean_tpr)\n",
    "std_auc = np.std(aucs)\n",
    "plt.plot(mean_fpr, mean_tpr, color = 'b', label = r'Mean ROC (AUC = %0.2f $\\pm$ %0.2f)' % (mean_auc,std_auc), lw = 2, alpha = .8)\n",
    "\n",
    "std_tpr = np.std(tprs,axis = 0)\n",
    "tprs_upper = np.minimum(mean_tpr+std_tpr,1)\n",
    "tprs_lower = np.maximum(mean_tpr-std_tpr,1)\n",
    "plt.fill_between(mean_fpr,tprs_lower,tprs_upper, color = 'grey', alpha = .2, label = r'$\\pm$ 1 std. dev.')\n",
    "\n",
    "plt.xlim([-0.05,1.05])\n",
    "plt.ylim([-0.05,1.05])\n",
    "plt.xlabel('False Positive Rate')\n",
    "plt.ylabel('True Positive Rate')\n",
    "plt.title('Receiver operating characteristic example')\n",
    "plt.legend(loc = \"lower right\")\n",
    "plt.show()"
   ]
  },
  {
   "cell_type": "code",
   "execution_count": 57,
   "metadata": {},
   "outputs": [
    {
     "name": "stdout",
     "output_type": "stream",
     "text": [
      "AUC SVM       : 0.4533255257892938\n"
     ]
    }
   ],
   "source": [
    "print(\"AUC SVM       :\", mean_auc)"
   ]
  },
  {
   "cell_type": "code",
   "execution_count": 58,
   "metadata": {},
   "outputs": [
    {
     "data": {
      "text/plain": [
       "SVC(C=1.0, break_ties=False, cache_size=200, class_weight=None, coef0=0.0,\n",
       "    decision_function_shape='ovr', degree=3, gamma='scale', kernel='linear',\n",
       "    max_iter=-1, probability=True,\n",
       "    random_state=RandomState(MT19937) at 0x1F1601D89D8, shrinking=True,\n",
       "    tol=0.001, verbose=False)"
      ]
     },
     "execution_count": 58,
     "metadata": {},
     "output_type": "execute_result"
    }
   ],
   "source": [
    "classifier.fit(x_train,y_train)"
   ]
  },
  {
   "cell_type": "code",
   "execution_count": 59,
   "metadata": {},
   "outputs": [
    {
     "data": {
      "text/plain": [
       "SVC(C=1.0, break_ties=False, cache_size=200, class_weight=None, coef0=0.0,\n",
       "    decision_function_shape='ovr', degree=3, gamma='scale', kernel='linear',\n",
       "    max_iter=-1, probability=True,\n",
       "    random_state=RandomState(MT19937) at 0x1F1601D89D8, shrinking=True,\n",
       "    tol=0.001, verbose=False)"
      ]
     },
     "execution_count": 59,
     "metadata": {},
     "output_type": "execute_result"
    }
   ],
   "source": [
    "classifier.fit(x_train,y_train)"
   ]
  },
  {
   "cell_type": "code",
   "execution_count": 60,
   "metadata": {},
   "outputs": [
    {
     "data": {
      "text/plain": [
       "0.7654320987654321"
      ]
     },
     "execution_count": 60,
     "metadata": {},
     "output_type": "execute_result"
    }
   ],
   "source": [
    "classifier.score(x_train,y_train)"
   ]
  },
  {
   "cell_type": "code",
   "execution_count": 61,
   "metadata": {},
   "outputs": [],
   "source": [
    "ysvm_predict = classifier.predict(x_test)"
   ]
  },
  {
   "cell_type": "code",
   "execution_count": 62,
   "metadata": {},
   "outputs": [
    {
     "data": {
      "text/html": [
       "<div>\n",
       "<style scoped>\n",
       "    .dataframe tbody tr th:only-of-type {\n",
       "        vertical-align: middle;\n",
       "    }\n",
       "\n",
       "    .dataframe tbody tr th {\n",
       "        vertical-align: top;\n",
       "    }\n",
       "\n",
       "    .dataframe thead th {\n",
       "        text-align: right;\n",
       "    }\n",
       "</style>\n",
       "<table border=\"1\" class=\"dataframe\">\n",
       "  <thead>\n",
       "    <tr style=\"text-align: right;\">\n",
       "      <th></th>\n",
       "      <th>0</th>\n",
       "      <th>1</th>\n",
       "    </tr>\n",
       "  </thead>\n",
       "  <tbody>\n",
       "    <tr>\n",
       "      <th>0</th>\n",
       "      <td>2</td>\n",
       "      <td>2</td>\n",
       "    </tr>\n",
       "    <tr>\n",
       "      <th>1</th>\n",
       "      <td>2</td>\n",
       "      <td>15</td>\n",
       "    </tr>\n",
       "  </tbody>\n",
       "</table>\n",
       "</div>"
      ],
      "text/plain": [
       "   0   1\n",
       "0  2   2\n",
       "1  2  15"
      ]
     },
     "execution_count": 62,
     "metadata": {},
     "output_type": "execute_result"
    }
   ],
   "source": [
    "conf_matrix_svm = confusion_matrix(y_test, ysvm_predict)\n",
    "Class = data['domestic_waste_disposal'].unique()\n",
    "conf_matrix_svm2 = pd.DataFrame(data = conf_matrix_svm)\n",
    "conf_matrix_svm2"
   ]
  },
  {
   "cell_type": "markdown",
   "metadata": {},
   "source": [
    "Based on the analysis, it is known that the method that gives the highest value of accuracy, precision, and AUC is the Random Forest method while the method that gives the greatest recall value is K-Nearest Neighbor."
   ]
  }
 ],
 "metadata": {
  "kernelspec": {
   "display_name": "Python 3",
   "language": "python",
   "name": "python3"
  },
  "language_info": {
   "codemirror_mode": {
    "name": "ipython",
    "version": 3
   },
   "file_extension": ".py",
   "mimetype": "text/x-python",
   "name": "python",
   "nbconvert_exporter": "python",
   "pygments_lexer": "ipython3",
   "version": "3.7.6"
  }
 },
 "nbformat": 4,
 "nbformat_minor": 2
}
